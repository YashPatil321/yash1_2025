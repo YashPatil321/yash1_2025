{
 "cells": [
  {
   "cell_type": "markdown",
   "metadata": {},
   "source": [
    "---\n",
    "layout: post\n",
    "title: MCQ REVIEW\n",
    "description: MCQ REVIEW\n",
    "comments: true\n",
    "sticky_rank: 1\n",
    "permalink: /MCQ\n",
    "\n",
    "---\n"
   ]
  },
  {
   "cell_type": "markdown",
   "metadata": {},
   "source": [
    "# AP CSP Exam Reflection\n",
    "\n",
    "## Progress and Improvement\n",
    "\n",
    "In my latest AP Computer Science Principles (AP CSP) practice exam, I scored **44/67**, which is an improvement from my previous **40/67**. While this is a step forward, there's still room for growth, particularly in specific skill areas where I struggled.\n",
    "\n",
    "## Strengths\n",
    "\n",
    "Looking at the skill breakdown, I performed well in:\n",
    "- **Investigating Situations and Context (Skill 1.A) - 100%**\n",
    "- **Designing Methods for Solutions (Skill 1.B) - 100%**\n",
    "- **Collaboration in Development (Skill 6.A) - 100%**\n",
    "- **Implementing Algorithms (Skill 2.B) - 64% but still a strong area**\n",
    "- **Using Safe and Secure Methods in Computing (Skill 6.B) - 100%**\n",
    "\n",
    "These results show that I have a solid grasp of conceptual and algorithmic problem-solving, along with a strong understanding of secure computing principles.\n",
    "\n",
    "## Areas for Improvement\n",
    "\n",
    "There were some areas where I need to focus more attention:\n",
    "- **Identifying and Correcting Errors (Skill 4.C) - 14%**  \n",
    "- **Describing the Impact of a Computing Innovation (Skill 5.C) - 0%**  \n",
    "- **Describing the Impact of Gathering Data (Skill 5.D) - 50%**  \n",
    "- **Understanding Parallel and Distributed Computing (Skill 4.3) - 50%**  \n",
    "\n",
    "These scores indicate that debugging and understanding computing impacts are areas where I should spend extra time reviewing.\n",
    "## Top 5 Individual Questions To Fix\n",
    "\n",
    "\n",
    "## Key Takeaways\n",
    "\n",
    "1. **More Practice on Debugging & Error Identification**  \n",
    "   My **14%** score in identifying and correcting errors suggests I need to work on understanding common mistakes in code and how to resolve them efficiently.\n",
    "\n",
    "2. **Strengthen Understanding of Computing Innovations & Data Collection**  \n",
    "   The **0% in Skill 5.C** means I need to read up on real-world computing innovations and their implications.\n",
    "\n",
    "3. **Continue Building on Algorithmic Thinking**  \n",
    "   My scores in implementing and applying algorithms are strong but could still be improved further.\n",
    "\n",
    "## Next Steps\n",
    "\n",
    "- **Review Debugging Techniques** – Practice more coding problems that require error detection.\n",
    "- **Study the Impact of Computing** – Read case studies on real-world computing applications.\n",
    "- **Targeted Practice** – Focus on questions related to Skill 5.C and Skill 4.C.\n",
    "\n",
    "Overall, this practice test showed an **increase in performance**, and I’m aiming to keep improving with better preparation in weaker areas.  \n",
    "\n",
    "**Images**\n",
    "![My Project Screenshot](./images/12.png)\n",
    "![My Project Screenshot](./images/23.png)\n",
    "![My Project Screenshot](./images/34.png)\n"
   ]
  }
 ],
 "metadata": {
  "kernelspec": {
   "display_name": "Python 3",
   "language": "python",
   "name": "python3"
  },
  "language_info": {
   "codemirror_mode": {
    "name": "ipython",
    "version": 3
   },
   "file_extension": ".py",
   "mimetype": "text/x-python",
   "name": "python",
   "nbconvert_exporter": "python",
   "pygments_lexer": "ipython3",
   "version": "3.10.12"
  }
 },
 "nbformat": 4,
 "nbformat_minor": 2
}
