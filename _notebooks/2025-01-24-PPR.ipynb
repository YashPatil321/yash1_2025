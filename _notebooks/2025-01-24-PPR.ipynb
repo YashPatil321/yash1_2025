{
 "cells": [
  {
   "cell_type": "markdown",
   "metadata": {},
   "source": [
    "---\n",
    "layout: post\n",
    "title: PPR Review\n",
    "description: PPR Review\n",
    "comments: true\n",
    "sticky_rank: 1\n",
    "permalink: /PPR\n",
    "\n",
    "---"
   ]
  },
  {
   "cell_type": "markdown",
   "metadata": {},
   "source": []
  },
  {
   "cell_type": "markdown",
   "metadata": {},
   "source": [
    "# Poseidon AI PPR REQUIREMENTS\n",
    "\n",
    "A PPR is created to help students prepare for **written response prompts on the exam**. It documents **essential code snippets** used in the **Poseidon AI Chatbot** feature, showcasing **procedures, list usage, and algorithms**.\n",
    "\n",
    "## **Poseidon AI Overview**\n",
    "**Poseidon AI** is an **AI-powered chatbot** that provides **homework assistance** using **Gemini AI**. It supports:\n",
    "- **Text and voice input** for seamless user interaction\n",
    "- **Full CRUD functionality** with stored chat logs in an **SQL database**\n",
    "- **Administrative backend** for chatbot log management\n",
    "- **AI-generated responses** optimized for accuracy\n",
    "\n",
    "### **PPR Submission Requirements**\n",
    "✅ **At least two student-developed procedures**  \n",
    "✅ **Two List-based Code Snippets**  \n",
    "✅ **Demonstration of sequencing, selection, and iteration**  \n"
   ]
  },
  {
   "cell_type": "code",
   "execution_count": null,
   "outputs": [],
   "source": [
    "from flask import request, jsonify\n",
    "import google.generativeai as genai\n",
    "from model.poseidon import PoseidonChatLog\n",
    "\n",
    "genai.configure(api_key=\"YOUR_GEMINI_API_KEY\")\n",
    "model = genai.GenerativeModel('gemini-pro')\n",
    "\n",
    "def ai_homework_help():\n",
    "    \"\"\"\n",
    "    This function takes a homework-related question as input, generates a response using Gemini AI, \n",
    "    and stores the conversation in a database.\n",
    "    \n",
    "    Returns:\n",
    "        JSON response containing the AI-generated text.\n",
    "    \"\"\"\n",
    "    data = request.get_json()\n",
    "    question = data.get(\"question\", \"\")\n",
    "\n",
    "    if not question:\n",
    "        return jsonify({\"error\": \"No question provided.\"}), 400\n",
    "\n",
    "    try:\n",
    "        response = model.generate_content(f\"Your name is Poseidon, an AI tutor. Answer only homework-related questions. Here is your prompt: {question}\")\n",
    "        response_text = response.text\n",
    "\n",
    "        # Save to database\n",
    "        new_entry = PoseidonChatLog(question=question, response=response_text)\n",
    "        new_entry.create()\n",
    "\n",
    "        return jsonify({\"response\": response_text}), 200\n",
    "    except Exception as e:\n",
    "        return jsonify({\"error\": str(e)}), 500\n"
   ],
   "metadata": {
    "collapsed": false
   }
  },
  {
   "cell_type": "markdown",
   "source": [
    "### Explanation:\n",
    "- **Function Name:** `ai_homework_help()`\n",
    "- **Purpose:** Fetches AI-generated responses using **Gemini AI**.\n",
    "- **Input:** A JSON payload containing the user's **homework question**.\n",
    "- **Processing:** \n",
    "  - Calls **Gemini AI API** to generate a response.\n",
    "  - Stores **question-response pairs** in the **PoseidonChatLog SQL database**.\n",
    "- **Output:** Returns AI-generated response in **JSON format**.\n"
   ],
   "metadata": {
    "collapsed": false
   }
  },
  {
   "cell_type": "code",
   "execution_count": null,
   "outputs": [],
   "source": [
    "def update_chat_log():\n",
    "    \"\"\"\n",
    "    This function updates a question-response pair in the Poseidon AI chat log.\n",
    "    \n",
    "    Returns:\n",
    "        JSON response confirming the update.\n",
    "    \"\"\"\n",
    "    data = request.get_json()\n",
    "    old_question = data.get(\"oldQuestion\", \"\")\n",
    "    new_question = data.get(\"newQuestion\", \"\")\n",
    "\n",
    "    if not old_question or not new_question:\n",
    "        return jsonify({\"error\": \"Both old and new questions are required.\"}), 400\n",
    "\n",
    "    log_entry = PoseidonChatLog.query.filter_by(_question=old_question).first()\n",
    "    \n",
    "    if not log_entry:\n",
    "        return jsonify({\"error\": \"Original question not found.\"}), 404\n",
    "\n",
    "    # Generate new AI response\n",
    "    response = model.generate_content(f\"Your name is Poseidon, an AI tutor. Here is your prompt: {new_question}\")\n",
    "    new_response = response.text\n",
    "\n",
    "    # Update database entry\n",
    "    log_entry._question = new_question\n",
    "    log_entry._response = new_response\n",
    "    db.session.commit()\n",
    "\n",
    "    return jsonify({\"response\": \"Chat log updated successfully.\", \"newResponse\": new_response}), 200\n"
   ],
   "metadata": {
    "collapsed": false
   }
  },
  {
   "cell_type": "markdown",
   "source": [
    "### Explanation:\n",
    "- **Function Name:** `update_chat_log()`\n",
    "- **Purpose:** Updates chatbot logs with a **new question and response**.\n",
    "- **Processing:**\n",
    "  - Fetches the **old question** from the SQL database.\n",
    "  - Calls **Gemini AI** to generate a new response for the updated question.\n",
    "  - **Commits changes** to the database.\n",
    "- **Output:** Returns success message + new AI response in JSON.\n"
   ],
   "metadata": {
    "collapsed": false
   }
  },
  {
   "cell_type": "code",
   "execution_count": null,
   "outputs": [],
   "source": [
    "def get_chat_logs():\n",
    "    \"\"\"\n",
    "    Retrieves all chat logs from the Poseidon AI chatbot database.\n",
    "    \n",
    "    Returns:\n",
    "        JSON response with all stored questions and responses.\n",
    "    \"\"\"\n",
    "    logs = PoseidonChatLog.query.all()\n",
    "    chat_data = [{\"question\": log._question, \"response\": log._response} for log in logs]\n",
    "\n",
    "    return jsonify({\"chat_logs\": chat_data}), 200\n"
   ],
   "metadata": {
    "collapsed": false
   }
  },
  {
   "cell_type": "markdown",
   "source": [
    "### Explanation:\n",
    "- **Function Name:** `get_chat_logs()`\n",
    "- **Purpose:** Retrieves all chatbot logs stored in **SQL database**.\n",
    "- **Processing:**\n",
    "  - Queries **PoseidonChatLog** model for all stored conversations.\n",
    "  - Formats data into **list of dictionaries**.\n",
    "- **Output:** JSON response containing all stored chat logs.\n"
   ],
   "metadata": {
    "collapsed": false
   }
  },
  {
   "cell_type": "code",
   "execution_count": null,
   "outputs": [],
   "source": [
    "async function fetchChatLogs() {\n",
    "    try {\n",
    "        const response = await fetch(`${pythonURI}/api/ai/logs`, { method: \"GET\" });\n",
    "        const data = await response.json();\n",
    "\n",
    "        const chatBox = document.getElementById(\"chat-box\");\n",
    "        chatBox.innerHTML = \"\"; // Clear previous data\n",
    "\n",
    "        data.chat_logs.forEach(log => {\n",
    "            chatBox.innerHTML += `\n",
    "                <div class=\"chat-log\">\n",
    "                    <strong>You:</strong> ${log.question} <br>\n",
    "                    <strong>Poseidon:</strong> ${log.response}\n",
    "                </div>`;\n",
    "        });\n",
    "    } catch (error) {\n",
    "        console.error(\"Error fetching chat logs:\", error);\n",
    "    }\n",
    "}\n"
   ],
   "metadata": {
    "collapsed": false
   }
  },
  {
   "cell_type": "markdown",
   "source": [
    "### Explanation:\n",
    "- **Function Name:** `fetchChatLogs()`\n",
    "- **Purpose:** Fetches chatbot logs dynamically and updates frontend.\n",
    "- **Processing:**\n",
    "  - Sends a **GET request** to fetch stored chat data.\n",
    "  - Iterates through **list of chat logs** and dynamically inserts them into HTML.\n",
    "- **Output:** Updates chatbot interface with stored conversations.\n"
   ],
   "metadata": {
    "collapsed": false
   }
  },
  {
   "cell_type": "markdown",
   "source": [
    "# **Final PPR Table - Poseidon AI Implementation**  \n",
    "\n",
    "| **PPR Requirement** | **How Poseidon AI Fulfills It** |\n",
    "|---------------------|--------------------------------|\n",
    "| **Two Procedure \"Program Codes\"** | 1️⃣ `ai_homework_help()`: Generates AI responses & stores chat logs. <br> 2️⃣ `update_chat_log()`: Updates chatbot responses dynamically. |\n",
    "| **Defines the Procedure’s Name & Purpose** | Each function is clearly named (`ai_homework_help`, `update_chat_log`) and documented to explain its role. |\n",
    "| **Includes Parameters & Return Types** | `ai_homework_help(question: str) → JSON` <br> `update_chat_log(old_question: str, new_question: str) → JSON` |\n",
    "| **Implements an Algorithm Using Sequencing, Selection, & Iteration** | ✅ **Sequencing:** Processes input, generates responses, and updates logs. <br> ✅ **Selection:** Checks if inputs are valid (error handling). <br> ✅ **Iteration:** Loops through database entries to fetch/update logs. |\n",
    "| **Shows Where Procedure is Called in Code** | `update_chat_log()` is called when the \"Update\" button is clicked in the frontend. <br> `ai_homework_help()` is triggered when users submit a question. |\n",
    "| **Two List \"Program Codes\"** | 1️⃣ `get_chat_logs()`: Fetches stored chatbot logs from the database. <br> 2️⃣ `fetchChatLogs()`: Iterates through chat logs and updates the frontend. |\n",
    "| **First List Program Stores Data** | `PoseidonChatLog.query.all()` retrieves chatbot conversations and stores them in a list. |\n",
    "| **Second List Program Uses Stored Data** | `fetchChatLogs()` loops through stored data and dynamically updates the UI. |\n",
    "| **Demonstrates Full-Stack Integration** | Backend (Flask + SQLAlchemy) interacts with Frontend (JavaScript + HTML), allowing real-time chatbot updates. |\n",
    "| **CPT Requirement Coverage** | ✅ **Data Storage** (Database) <br> ✅ **Procedural Abstraction** (Functions) <br> ✅ **Algorithms** (AI Chatbot Processing) <br> ✅ **List Handling** (Retrieving & Displaying Chat Logs) |\n"
   ],
   "metadata": {
    "collapsed": false
   }
  },
  {
   "cell_type": "markdown",
   "source": [],
   "metadata": {
    "collapsed": false
   }
  }
 ],
 "metadata": {
  "kernelspec": {
   "display_name": "Python 3",
   "language": "python",
   "name": "python3"
  },
  "language_info": {
   "codemirror_mode": {
    "name": "ipython",
    "version": 3
   },
   "file_extension": ".py",
   "mimetype": "text/x-python",
   "name": "python",
   "nbconvert_exporter": "python",
   "pygments_lexer": "ipython3",
   "version": "3.10.12"
  }
 },
 "nbformat": 4,
 "nbformat_minor": 2
}
