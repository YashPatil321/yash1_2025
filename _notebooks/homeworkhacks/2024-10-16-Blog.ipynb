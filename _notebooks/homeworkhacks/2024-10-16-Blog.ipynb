{
    "cells": [
     {
      "cell_type": "markdown",
      "metadata": {},
      "source": [
       "---\n",
       "layout: post\n",
       "title: Homework Reflections by Yash Patil\n",
       "description: Insights from My Learning Journey\n",
       "permalink: /homework-reflections/\n",
       "comments: true\n",
       "---"
      ]
     },
     {
      "cell_type": "markdown",
      "metadata": {},
      "source": [
       "# Homework Reflections\n",
       "In this notebook, I will reflect on the homework lessons I completed, what I learned from each, and how these lessons have contributed to my understanding of programming and problem-solving.\n"
      ]
     },
     {
      "cell_type": "markdown",
      "metadata": {},
      "source": [
       "## Lesson 3.2: Adding Two Integers\n",
       "In this lesson, I learned how to create a simple Python function to add two integers. This exercise taught me the importance of defining functions and how they can help break down complex problems into simpler tasks. I also learned to handle inputs and outputs effectively. My code successfully printed the sum of two numbers, showcasing how basic arithmetic can be implemented in programming.\n",
       "\n",
       "### Key Takeaway:\n",
       "Creating functions is fundamental in programming as they enhance code reusability and clarity."
      ]
     },
     {
      "cell_type": "markdown",
      "metadata": {},
      "source": [
       "## Lesson 3.8: Factorials and Divisibility\n",
       "This lesson focused on calculating the factorial of a number and identifying numbers divisible by 2. I implemented a recursive function to compute the factorial, which helped deepen my understanding of recursion. Additionally, I learned how to filter lists in Python using list comprehensions. It was fascinating to see how quickly numbers can grow when calculating factorials, and how easily we can find specific values in a list.\n",
       "\n",
       "### Key Takeaway:\n",
       "Recursion is a powerful concept, and list comprehensions can make code cleaner and more efficient."
      ]
     },
     {
      "cell_type": "markdown",
      "metadata": {},
      "source": [
       "## Lesson 3.8: Using JSON and JavaScript Objects\n",
       "In this part of my homework, I worked with JSON to create and manipulate dictionaries in JavaScript. I learned how to parse JSON strings and update items within an object. This exercise highlighted the importance of data structures in programming and how they can be used to store and retrieve information efficiently. I found it interesting to see the connection between JSON and JavaScript objects, reinforcing the concept of structured data.\n",
       "\n",
       "### Key Takeaway:\n",
       "Understanding JSON is crucial for working with APIs and data exchange in web development."
      ]
     },
     {
      "cell_type": "markdown",
      "metadata": {},
      "source": [
       "## Lesson 3.8: Modifying Dictionaries\n",
       "I created and updated dictionaries in Python, learning how to manage key-value pairs effectively. This lesson showed me the flexibility of dictionaries and how they can be used to model real-world data. I found it rewarding to see my dictionary evolve as I added new items and updated existing ones, reinforcing my understanding of mutable data structures.\n",
       "\n",
       "### Key Takeaway:\n",
       "Dictionaries are versatile and essential for organizing and manipulating data in programming."
      ]
     },
     {
      "cell_type": "markdown",
      "metadata": {},
      "source": [
       "# Conclusion\n",
       "Overall, these homework lessons have enhanced my programming skills and deepened my understanding of key concepts. Each task not only improved my coding abilities but also emphasized the importance of structured problem-solving. I look forward to applying what I've learned in future projects!"
      ]
     }
    ],
    "metadata": {
     "kernelspec": {
      "display_name": "Python 3",
      "language": "python",
      "name": "python3"
     },
     "language_info": {
      "codemirror_mode": {
       "name": "ipython",
       "version": 3
      },
      "file_extension": ".py",
      "mimetype": "text/x-python",
      "name": "python",
      "nbconvert_exporter": "python",
      "pygments_lexer": "ipython3",
      "version": "3.10.12"
     }
    },
    "nbformat": 4,
    "nbformat_minor": 2
   }
   